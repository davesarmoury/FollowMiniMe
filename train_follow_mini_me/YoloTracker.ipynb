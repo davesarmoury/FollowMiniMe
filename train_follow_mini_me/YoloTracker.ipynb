{
 "cells": [
  {
   "cell_type": "code",
   "execution_count": null,
   "id": "8ffdca27",
   "metadata": {
    "scrolled": false
   },
   "outputs": [],
   "source": [
    "!git clone https://github.com/ultralytics/yolov5  # clone repo\n",
    "%cd yolov5\n",
    "%pip install -qr requirements.txt # install dependencies\n",
    "%pip install -q roboflow\n",
    "\n",
    "import torch\n",
    "import os\n",
    "from IPython.display import Image, clear_output  # to display images\n",
    "\n",
    "print(f\"Setup complete. Using torch {torch.__version__} ({torch.cuda.get_device_properties(0).name if torch.cuda.is_available() else 'CPU'})\")"
   ]
  },
  {
   "cell_type": "code",
   "execution_count": null,
   "id": "3756e93c",
   "metadata": {},
   "outputs": [],
   "source": [
    "from roboflow import Roboflow\n",
    "rf = Roboflow(model_format=\"yolov5\", notebook=\"ultralytics\")\n",
    "\n",
    "rf = Roboflow(api_key=\"-KEY-KEY-KEY-KEY-KEY-\")\n",
    "project = rf.workspace(\"publicworkspace-2eelx\").project(\"followtracker\")\n",
    "dataset = project.version(3).download(\"yolov5\")"
   ]
  },
  {
   "cell_type": "code",
   "execution_count": null,
   "id": "af5611cb",
   "metadata": {},
   "outputs": [],
   "source": [
    "!python3 train.py --img 540 --batch 64 --epochs 150 --weights yolov5m.pt --data ~/ws/follow_ws/src/FollowMiniMe/train_follow_mini_me/yolov5/FollowTracker-3/data.yaml --cache"
   ]
  },
  {
   "cell_type": "code",
   "execution_count": null,
   "id": "3cff0c69",
   "metadata": {},
   "outputs": [],
   "source": [
    "%load_ext tensorboard\n",
    "%tensorboard --logdir runs"
   ]
  },
  {
   "cell_type": "code",
   "execution_count": null,
   "id": "a41f4421",
   "metadata": {},
   "outputs": [],
   "source": [
    "!python3 detect.py --weights runs/train/exp/weights/best.pt --img 540 --conf 0.1 --source ~/ws/follow_ws/src/FollowMiniMe/train_follow_mini_me/yolov5/FollowTracker-3/test/images"
   ]
  },
  {
   "cell_type": "code",
   "execution_count": null,
   "id": "452bc5a0",
   "metadata": {},
   "outputs": [],
   "source": [
    "import glob\n",
    "from IPython.display import Image, display\n",
    "\n",
    "for imageName in glob.glob('~/ws/follow_ws/src/FollowMiniMe/train_follow_mini_me/yolov5/runs/detect/exp/*.jpg'): #assuming JPG\n",
    "    display(Image(filename=imageName))\n",
    "    print(\"\\n\")"
   ]
  },
  {
   "cell_type": "code",
   "execution_count": null,
   "id": "2bc2eb7b",
   "metadata": {},
   "outputs": [],
   "source": []
  }
 ],
 "metadata": {
  "kernelspec": {
   "display_name": "Python 3 (ipykernel)",
   "language": "python",
   "name": "python3"
  },
  "language_info": {
   "codemirror_mode": {
    "name": "ipython",
    "version": 3
   },
   "file_extension": ".py",
   "mimetype": "text/x-python",
   "name": "python",
   "nbconvert_exporter": "python",
   "pygments_lexer": "ipython3",
   "version": "3.8.10"
  }
 },
 "nbformat": 4,
 "nbformat_minor": 5
}
